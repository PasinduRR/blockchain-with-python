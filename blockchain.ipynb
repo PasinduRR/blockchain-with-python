{
 "cells": [
  {
   "cell_type": "markdown",
   "id": "20996f6e",
   "metadata": {},
   "source": [
    "#### hashMe() function — a helper to create a hash of a message or data"
   ]
  },
  {
   "cell_type": "code",
   "execution_count": 3,
   "id": "a21268ec",
   "metadata": {},
   "outputs": [],
   "source": [
    "# Importing required libraries\n",
    "import hashlib\n",
    "import json\n",
    "import sys"
   ]
  },
  {
   "cell_type": "code",
   "execution_count": 4,
   "id": "594deee3",
   "metadata": {},
   "outputs": [],
   "source": [
    "# Defining a helper function that wraps our hashing algorithm\n",
    "def hashMe(msg=\"\"):\n",
    "    if type(msg) != str:\n",
    "        msg = json.dumps(msg, sort_keys=True)\n",
    "    \n",
    "    return hashlib.sha256(str(msg).encode('utf-8')).hexdigest()"
   ]
  },
  {
   "cell_type": "code",
   "execution_count": 10,
   "id": "427925b0",
   "metadata": {},
   "outputs": [
    {
     "name": "stdout",
     "output_type": "stream",
     "text": [
      "34bbbd0c0fa96527407730b8eda141d8815d540b464b02dfa0588b0c53382516\n"
     ]
    }
   ],
   "source": [
    "transaction = {\"sender\": \"Alice\", \"recipient\": \"Bob\", \"amount\": 10}\n",
    "print(hashMe(transaction))"
   ]
  },
  {
   "cell_type": "markdown",
   "id": "98c38012",
   "metadata": {},
   "source": [
    "#### makeTransaction() funtion — generate exchanges between Alice and Bob"
   ]
  },
  {
   "cell_type": "code",
   "execution_count": null,
   "id": "1e1c772d",
   "metadata": {},
   "outputs": [],
   "source": [
    "import random\n",
    "random.seed(0) # Sets a fixed seed so results are predictable every time you run the code(good for debugging and reproducability)\n",
    "\n",
    "def makeTransaction(maxValue = 1000): # This will create valid transactions in range of (1, maxValue)\n",
    "    sign = int(random.getrandbits(1)) * 2 - 1 # This is will randomly choose between -1 or 1 (Picks randomly whether Alice pays Bob or Bob pays Alice)\n",
    "    amount = random.randint(1, maxValue)\n",
    "    aliceAmount = sign * amount\n",
    "    bobAmount = -1 * aliceAmount # Ensures a balanced transaction, and zero-sum\n",
    "\n",
    "    return {u'Alice': aliceAmount, u'Bob': bobAmount}"
   ]
  },
  {
   "cell_type": "code",
   "execution_count": 20,
   "id": "2ae9e8dc",
   "metadata": {},
   "outputs": [
    {
     "name": "stdout",
     "output_type": "stream",
     "text": [
      "{'Alice': 224, 'Bob': -224}\n",
      "{'Alice': 143, 'Bob': -143}\n",
      "{'Alice': -144, 'Bob': 144}\n",
      "{'Alice': 98, 'Bob': -98}\n",
      "{'Alice': 819, 'Bob': -819}\n"
     ]
    }
   ],
   "source": [
    "for _ in range(5):\n",
    "    print(makeTransaction())"
   ]
  },
  {
   "cell_type": "code",
   "execution_count": 21,
   "id": "2702160d",
   "metadata": {},
   "outputs": [
    {
     "data": {
      "text/plain": [
       "[{'Alice': -932, 'Bob': 932},\n",
       " {'Alice': 723, 'Bob': -723},\n",
       " {'Alice': 617, 'Bob': -617},\n",
       " {'Alice': 151, 'Bob': -151},\n",
       " {'Alice': -102, 'Bob': 102},\n",
       " {'Alice': 76, 'Bob': -76},\n",
       " {'Alice': 871, 'Bob': -871},\n",
       " {'Alice': 339, 'Bob': -339},\n",
       " {'Alice': -574, 'Bob': 574},\n",
       " {'Alice': -363, 'Bob': 363},\n",
       " {'Alice': -324, 'Bob': 324},\n",
       " {'Alice': 656, 'Bob': -656},\n",
       " {'Alice': 210, 'Bob': -210},\n",
       " {'Alice': 566, 'Bob': -566},\n",
       " {'Alice': -454, 'Bob': 454},\n",
       " {'Alice': 534, 'Bob': -534},\n",
       " {'Alice': -64, 'Bob': 64},\n",
       " {'Alice': 941, 'Bob': -941},\n",
       " {'Alice': 938, 'Bob': -938},\n",
       " {'Alice': -96, 'Bob': 96},\n",
       " {'Alice': 861, 'Bob': -861},\n",
       " {'Alice': -728, 'Bob': 728},\n",
       " {'Alice': 804, 'Bob': -804},\n",
       " {'Alice': 641, 'Bob': -641},\n",
       " {'Alice': -627, 'Bob': 627},\n",
       " {'Alice': -848, 'Bob': 848},\n",
       " {'Alice': 342, 'Bob': -342},\n",
       " {'Alice': -748, 'Bob': 748},\n",
       " {'Alice': -721, 'Bob': 721},\n",
       " {'Alice': 65, 'Bob': -65},\n",
       " {'Alice': -940, 'Bob': 940},\n",
       " {'Alice': 228, 'Bob': -228},\n",
       " {'Alice': -823, 'Bob': 823},\n",
       " {'Alice': 146, 'Bob': -146},\n",
       " {'Alice': 557, 'Bob': -557},\n",
       " {'Alice': -94, 'Bob': 94},\n",
       " {'Alice': -328, 'Bob': 328},\n",
       " {'Alice': 521, 'Bob': -521},\n",
       " {'Alice': 956, 'Bob': -956},\n",
       " {'Alice': -112, 'Bob': 112},\n",
       " {'Alice': -565, 'Bob': 565},\n",
       " {'Alice': -724, 'Bob': 724},\n",
       " {'Alice': -561, 'Bob': 561},\n",
       " {'Alice': -835, 'Bob': 835},\n",
       " {'Alice': 554, 'Bob': -554},\n",
       " {'Alice': -987, 'Bob': 987},\n",
       " {'Alice': 618, 'Bob': -618},\n",
       " {'Alice': 602, 'Bob': -602},\n",
       " {'Alice': -456, 'Bob': 456},\n",
       " {'Alice': -611, 'Bob': 611},\n",
       " {'Alice': 395, 'Bob': -395},\n",
       " {'Alice': -590, 'Bob': 590},\n",
       " {'Alice': -298, 'Bob': 298},\n",
       " {'Alice': -194, 'Bob': 194},\n",
       " {'Alice': 192, 'Bob': -192},\n",
       " {'Alice': -628, 'Bob': 628},\n",
       " {'Alice': 673, 'Bob': -673},\n",
       " {'Alice': -488, 'Bob': 488},\n",
       " {'Alice': -92, 'Bob': 92},\n",
       " {'Alice': 776, 'Bob': -776},\n",
       " {'Alice': -898, 'Bob': 898},\n",
       " {'Alice': -946, 'Bob': 946},\n",
       " {'Alice': -863, 'Bob': 863},\n",
       " {'Alice': -920, 'Bob': 920},\n",
       " {'Alice': 946, 'Bob': -946},\n",
       " {'Alice': 554, 'Bob': -554},\n",
       " {'Alice': 401, 'Bob': -401},\n",
       " {'Alice': 723, 'Bob': -723},\n",
       " {'Alice': 283, 'Bob': -283},\n",
       " {'Alice': 832, 'Bob': -832},\n",
       " {'Alice': -870, 'Bob': 870},\n",
       " {'Alice': -917, 'Bob': 917},\n",
       " {'Alice': 604, 'Bob': -604},\n",
       " {'Alice': 973, 'Bob': -973},\n",
       " {'Alice': -594, 'Bob': 594},\n",
       " {'Alice': -462, 'Bob': 462},\n",
       " {'Alice': -677, 'Bob': 677},\n",
       " {'Alice': 718, 'Bob': -718},\n",
       " {'Alice': 813, 'Bob': -813},\n",
       " {'Alice': -85, 'Bob': 85},\n",
       " {'Alice': -628, 'Bob': 628},\n",
       " {'Alice': -499, 'Bob': 499},\n",
       " {'Alice': 646, 'Bob': -646},\n",
       " {'Alice': -866, 'Bob': 866},\n",
       " {'Alice': -249, 'Bob': 249},\n",
       " {'Alice': -750, 'Bob': 750},\n",
       " {'Alice': -120, 'Bob': 120},\n",
       " {'Alice': 226, 'Bob': -226},\n",
       " {'Alice': -814, 'Bob': 814},\n",
       " {'Alice': -341, 'Bob': 341},\n",
       " {'Alice': -836, 'Bob': 836},\n",
       " {'Alice': -104, 'Bob': 104},\n",
       " {'Alice': 150, 'Bob': -150},\n",
       " {'Alice': 715, 'Bob': -715},\n",
       " {'Alice': -47, 'Bob': 47},\n",
       " {'Alice': 588, 'Bob': -588},\n",
       " {'Alice': 932, 'Bob': -932},\n",
       " {'Alice': 548, 'Bob': -548},\n",
       " {'Alice': 697, 'Bob': -697},\n",
       " {'Alice': -28, 'Bob': 28}]"
      ]
     },
     "execution_count": 21,
     "metadata": {},
     "output_type": "execute_result"
    }
   ],
   "source": [
    "# creating a large set of transactions, then chunking them into blocks\n",
    "transactionBuffer = [makeTransaction() for _ in range(100)] # 1000 transactions\n",
    "transactionBuffer"
   ]
  },
  {
   "cell_type": "markdown",
   "id": "c271298f",
   "metadata": {},
   "source": [
    "#### updateState(transaction, state) funtion — Applying a transaction to account balance\n",
    "##### This does not validate the transaction, only updates the states. (Only called if the transaction is valid)"
   ]
  },
  {
   "cell_type": "code",
   "execution_count": 26,
   "id": "20abff22",
   "metadata": {},
   "outputs": [],
   "source": [
    "def updateState(transaction, state):\n",
    "    '''\n",
    "    Inputs: \n",
    "        transaction: a dictionary with keys Alice and Bob, and values the amount of money they are sending to each other\n",
    "        state: a dictionary with keys Alice and Bob, and values their current balance\n",
    "    Outputs:\n",
    "        state: a dictionary with keys Alice and Bob, and values their new balance after the transaction\n",
    "        ** Additional users will be added to state if they are not already present\n",
    "    '''\n",
    "\n",
    "    state = state.copy() # Copy the state so we don't modify the original\n",
    "\n",
    "    for key in transaction.keys():\n",
    "\n",
    "        if key in state.keys():\n",
    "            state[key] += transaction[key]\n",
    "        else:\n",
    "            state[key] = transaction[key]\n",
    "    \n",
    "    return state"
   ]
  },
  {
   "cell_type": "code",
   "execution_count": 28,
   "id": "1576e105",
   "metadata": {},
   "outputs": [
    {
     "name": "stdout",
     "output_type": "stream",
     "text": [
      "Initial State:{'Alice': 1000, 'Bob': 1000}\n",
      "Transaction:{'Alice': -380, 'Bob': 380}\n",
      "Updated State:{'Alice': 620, 'Bob': 1380}\n"
     ]
    }
   ],
   "source": [
    "state = {'Alice': 1000, 'Bob': 1000} # Initial state of the system\n",
    "print(f\"Initial State:{state}\")\n",
    "transaction = makeTransaction()\n",
    "print(f\"Transaction:{transaction}\")\n",
    "\n",
    "newState = updateState(transaction, state)\n",
    "print(f\"Updated State:{newState}\")"
   ]
  },
  {
   "cell_type": "markdown",
   "id": "8db9d4d4",
   "metadata": {},
   "source": [
    "#### isValidTransaction(transaction, state) funtion — Validating the transaction"
   ]
  },
  {
   "cell_type": "code",
   "execution_count": 29,
   "id": "a8a9cf82",
   "metadata": {},
   "outputs": [],
   "source": [
    "def isValidTransaction(transaction, state):\n",
    "    '''\n",
    "    Inputs: \n",
    "        transaction: a dictionary with keys Alice and Bob or anyone else, and values the amount of money they are sending to each other\n",
    "        state: a dictionary with keys Alice and Bob or anyone else, and values their current balance\n",
    "    Outputs:\n",
    "        True if the transaction is valid, False otherwise\n",
    "    '''\n",
    "    if sum(transaction.values()) != 0:\n",
    "        return False # Check if the transaction is zero-sum (No new tokens are created or destroyed)\n",
    "    \n",
    "    for key in transaction.keys():\n",
    "        if key in state.keys():\n",
    "            accountBalance = state[key]\n",
    "        else:\n",
    "            accountBalance = 0\n",
    "        \n",
    "        if accountBalance + transaction[key] < 0:\n",
    "            return False\n",
    "        # Check if the transaction is valid by ensuring that the sender has enough money to send\n",
    "        # If the sender is not in the state, they are assumed to have 0 balance, so we check if they are sending more than 0\n",
    "\n",
    "    return True # If all checks pass, the transaction is valid"
   ]
  },
  {
   "cell_type": "code",
   "execution_count": 32,
   "id": "65b02ebe",
   "metadata": {},
   "outputs": [
    {
     "name": "stdout",
     "output_type": "stream",
     "text": [
      "Initial State:{'Alice': 1000, 'Bob': 1000}\n",
      "Transaction: {'Alice': -800, 'Bob': 800}, Valid: True\n",
      "Transaction: {'Alice': 1500, 'Bob': -1500}, Valid: False\n",
      "Transaction: {'Alice': -400, 'Bob': 600}, Valid: False\n",
      "Transaction: {'Alice': -500, 'Bob': 250, 'Lisa': 250}, Valid: True\n"
     ]
    }
   ],
   "source": [
    "state = {'Alice': 1000, 'Bob': 1000} # Initial state of the system\n",
    "print(f\"Initial State:{state}\")\n",
    "\n",
    "transaction1 = {'Alice': -800, 'Bob': 800} # Alice sends 800 to Bob\n",
    "transaction2 = {'Alice': 1500, 'Bob': -1500} # Bob sends 1500 to Alice (invalid transaction since Bob doesn't have enough money)\n",
    "transaction3 = {'Alice': -400, 'Bob': 600} # Alice sends 400 to Bob but Bob receives 600 (invalid transaction since we can't create or destroy tokens)\n",
    "transaction4 = {'Alice': -500, 'Bob': 250, 'Lisa': 250} # Creating new users is valid as long as the rules are preserved\n",
    "\n",
    "print(f\"Transaction: {transaction1}, Valid: {isValidTransaction(transaction1,state)}\")\n",
    "print(f\"Transaction: {transaction2}, Valid: {isValidTransaction(transaction2,state)}\")\n",
    "print(f\"Transaction: {transaction3}, Valid: {isValidTransaction(transaction3,state)}\")\n",
    "print(f\"Transaction: {transaction4}, Valid: {isValidTransaction(transaction4,state)}\")"
   ]
  },
  {
   "cell_type": "markdown",
   "id": "8e02b2db",
   "metadata": {},
   "source": [
    "#### Building the Blockchain: From Transactions to Blocks"
   ]
  },
  {
   "cell_type": "code",
   "execution_count": 34,
   "id": "24ca887d",
   "metadata": {},
   "outputs": [],
   "source": [
    "state = {'Alice': 100, 'Bob': 100} # Initial state of the system (This is like setting up the original balances in a new blockchain network)\n",
    "\n",
    "genesisBlockTransactions = state # This is the first block in the blockchain, so we set the transactions to the initial state\n",
    "\n",
    "genesisBlockContents = {\n",
    "    'blockNumber': 0,\n",
    "    'parentHash': None,\n",
    "    'transactionCount': 1,\n",
    "    'transactions': genesisBlockTransactions\n",
    "}\n",
    "\n",
    "genesisHash = hashMe(genesisBlockContents) # Generating SHA-256 hash of block's content. This makes is immutable. If anything changes, the hash changes\n",
    "\n",
    "genesisBlock = {'hash': genesisHash, 'contents': genesisBlockContents} # Creating the actual block using a dictionary\n",
    "\n",
    "genesisBlockStr = json.dumps(genesisBlock, sort_keys=True) # Serializing the block for later use (storing, printing or transmitting)\n",
    "\n",
    "# This becomes the first element from which everything else will be linked."
   ]
  },
  {
   "cell_type": "code",
   "execution_count": 36,
   "id": "75b2b7cc",
   "metadata": {},
   "outputs": [],
   "source": [
    "# creating the blockchain\n",
    "chain = [genesisBlock]"
   ]
  },
  {
   "cell_type": "markdown",
   "id": "05e80035",
   "metadata": {},
   "source": [
    "#### makeBlock(transaction, chain) function"
   ]
  },
  {
   "cell_type": "code",
   "execution_count": null,
   "id": "a7e5052e",
   "metadata": {},
   "outputs": [],
   "source": [
    "def makeBlock(transactions, chain):\n",
    "    '''\n",
    "        \n",
    "    '''\n",
    "    parentBlock = chain[-1]\n",
    "    parentHash = parentBlock['hash']\n",
    "    blockNumber = parentBlock['contents']['blockNumber'] + 1\n",
    "    transactionCount = len(transactions)\n",
    "\n",
    "    blockContents = {\n",
    "        'blockNumber': blockNumber,\n",
    "        'parentHash': parentHash,\n",
    "        'transactionCount': transactionCount,\n",
    "        'transactions': transactions\n",
    "    }\n",
    "\n",
    "    blockHash = hashMe(blockContents)\n",
    "\n",
    "    block = {'hash': blockHash, 'contents': blockContents}\n",
    "\n",
    "    return block"
   ]
  }
 ],
 "metadata": {
  "kernelspec": {
   "display_name": "Python 3",
   "language": "python",
   "name": "python3"
  },
  "language_info": {
   "codemirror_mode": {
    "name": "ipython",
    "version": 3
   },
   "file_extension": ".py",
   "mimetype": "text/x-python",
   "name": "python",
   "nbconvert_exporter": "python",
   "pygments_lexer": "ipython3",
   "version": "3.13.3"
  }
 },
 "nbformat": 4,
 "nbformat_minor": 5
}
