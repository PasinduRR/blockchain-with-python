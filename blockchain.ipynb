{
 "cells": [
  {
   "cell_type": "markdown",
   "id": "20996f6e",
   "metadata": {},
   "source": [
    "#### hashMe() function — a helper to create a hash of a message or data"
   ]
  },
  {
   "cell_type": "code",
   "execution_count": 351,
   "id": "a21268ec",
   "metadata": {},
   "outputs": [],
   "source": [
    "# Importing required libraries\n",
    "import hashlib\n",
    "import json\n",
    "import sys"
   ]
  },
  {
   "cell_type": "code",
   "execution_count": 352,
   "id": "594deee3",
   "metadata": {},
   "outputs": [],
   "source": [
    "# Defining a helper function that wraps our hashing algorithm\n",
    "def hashMe(msg=\"\"):\n",
    "    if type(msg) != str:\n",
    "        msg = json.dumps(msg, sort_keys=True)\n",
    "    \n",
    "    return hashlib.sha256(str(msg).encode('utf-8')).hexdigest()"
   ]
  },
  {
   "cell_type": "code",
   "execution_count": 353,
   "id": "427925b0",
   "metadata": {},
   "outputs": [
    {
     "name": "stdout",
     "output_type": "stream",
     "text": [
      "34bbbd0c0fa96527407730b8eda141d8815d540b464b02dfa0588b0c53382516\n"
     ]
    }
   ],
   "source": [
    "transaction = {\"sender\": \"Alice\", \"recipient\": \"Bob\", \"amount\": 10}\n",
    "print(hashMe(transaction))"
   ]
  },
  {
   "cell_type": "markdown",
   "id": "98c38012",
   "metadata": {},
   "source": [
    "#### makeTransaction() funtion — generate exchanges between Alice and Bob"
   ]
  },
  {
   "cell_type": "code",
   "execution_count": 354,
   "id": "1e1c772d",
   "metadata": {},
   "outputs": [],
   "source": [
    "import random\n",
    "random.seed(2) # Sets a fixed seed so results are predictable every time you run the code(good for debugging and reproducability)\n",
    "\n",
    "def makeTransaction(maxValue = 1000): # This will create valid transactions in range of (1, maxValue)\n",
    "    sign = int(random.getrandbits(1)) * 2 - 1 # This is will randomly choose between -1 or 1 (Picks randomly whether Alice pays Bob or Bob pays Alice)\n",
    "    amount = random.randint(1, maxValue)\n",
    "    aliceAmount = sign * amount\n",
    "    bobAmount = -1 * aliceAmount # Ensures a balanced transaction, and zero-sum\n",
    "\n",
    "    return {u'Alice': aliceAmount, u'Bob': bobAmount}"
   ]
  },
  {
   "cell_type": "code",
   "execution_count": 355,
   "id": "2ae9e8dc",
   "metadata": {},
   "outputs": [
    {
     "name": "stdout",
     "output_type": "stream",
     "text": [
      "{'Alice': 884, 'Bob': -884}\n",
      "{'Alice': 870, 'Bob': -870}\n",
      "{'Alice': -94, 'Bob': 94}\n",
      "{'Alice': -370, 'Bob': 370}\n",
      "{'Alice': 174, 'Bob': -174}\n"
     ]
    }
   ],
   "source": [
    "for _ in range(5):\n",
    "    print(makeTransaction())"
   ]
  },
  {
   "cell_type": "code",
   "execution_count": 356,
   "id": "2702160d",
   "metadata": {},
   "outputs": [
    {
     "data": {
      "text/plain": [
       "[{'Alice': 829, 'Bob': -829},\n",
       " {'Alice': 875, 'Bob': -875},\n",
       " {'Alice': -258, 'Bob': 258},\n",
       " {'Alice': 218, 'Bob': -218},\n",
       " {'Alice': 37, 'Bob': -37},\n",
       " {'Alice': 698, 'Bob': -698},\n",
       " {'Alice': -442, 'Bob': 442},\n",
       " {'Alice': 403, 'Bob': -403},\n",
       " {'Alice': 741, 'Bob': -741},\n",
       " {'Alice': 522, 'Bob': -522},\n",
       " {'Alice': 381, 'Bob': -381},\n",
       " {'Alice': 959, 'Bob': -959},\n",
       " {'Alice': -515, 'Bob': 515},\n",
       " {'Alice': -923, 'Bob': 923},\n",
       " {'Alice': -892, 'Bob': 892},\n",
       " {'Alice': -373, 'Bob': 373},\n",
       " {'Alice': -955, 'Bob': 955},\n",
       " {'Alice': -930, 'Bob': 930},\n",
       " {'Alice': -434, 'Bob': 434},\n",
       " {'Alice': 906, 'Bob': -906},\n",
       " {'Alice': 169, 'Bob': -169},\n",
       " {'Alice': 182, 'Bob': -182},\n",
       " {'Alice': -237, 'Bob': 237},\n",
       " {'Alice': -181, 'Bob': 181},\n",
       " {'Alice': -178, 'Bob': 178},\n",
       " {'Alice': -523, 'Bob': 523},\n",
       " {'Alice': 369, 'Bob': -369},\n",
       " {'Alice': 527, 'Bob': -527},\n",
       " {'Alice': 574, 'Bob': -574},\n",
       " {'Alice': -916, 'Bob': 916},\n",
       " {'Alice': -816, 'Bob': 816},\n",
       " {'Alice': -753, 'Bob': 753},\n",
       " {'Alice': 929, 'Bob': -929},\n",
       " {'Alice': 782, 'Bob': -782},\n",
       " {'Alice': -809, 'Bob': 809},\n",
       " {'Alice': 363, 'Bob': -363},\n",
       " {'Alice': -880, 'Bob': 880},\n",
       " {'Alice': 457, 'Bob': -457},\n",
       " {'Alice': -978, 'Bob': 978},\n",
       " {'Alice': 410, 'Bob': -410},\n",
       " {'Alice': 757, 'Bob': -757},\n",
       " {'Alice': -671, 'Bob': 671},\n",
       " {'Alice': 256, 'Bob': -256},\n",
       " {'Alice': -286, 'Bob': 286},\n",
       " {'Alice': 511, 'Bob': -511},\n",
       " {'Alice': 528, 'Bob': -528},\n",
       " {'Alice': 816, 'Bob': -816},\n",
       " {'Alice': -678, 'Bob': 678},\n",
       " {'Alice': 466, 'Bob': -466},\n",
       " {'Alice': 925, 'Bob': -925},\n",
       " {'Alice': -360, 'Bob': 360},\n",
       " {'Alice': 744, 'Bob': -744},\n",
       " {'Alice': 571, 'Bob': -571},\n",
       " {'Alice': 468, 'Bob': -468},\n",
       " {'Alice': -675, 'Bob': 675},\n",
       " {'Alice': -964, 'Bob': 964},\n",
       " {'Alice': -835, 'Bob': 835},\n",
       " {'Alice': 856, 'Bob': -856},\n",
       " {'Alice': -898, 'Bob': 898},\n",
       " {'Alice': 632, 'Bob': -632},\n",
       " {'Alice': -792, 'Bob': 792},\n",
       " {'Alice': 492, 'Bob': -492},\n",
       " {'Alice': -311, 'Bob': 311},\n",
       " {'Alice': 819, 'Bob': -819},\n",
       " {'Alice': 852, 'Bob': -852},\n",
       " {'Alice': 576, 'Bob': -576},\n",
       " {'Alice': 520, 'Bob': -520},\n",
       " {'Alice': 631, 'Bob': -631},\n",
       " {'Alice': 417, 'Bob': -417},\n",
       " {'Alice': -749, 'Bob': 749},\n",
       " {'Alice': -501, 'Bob': 501},\n",
       " {'Alice': 376, 'Bob': -376},\n",
       " {'Alice': 701, 'Bob': -701},\n",
       " {'Alice': 904, 'Bob': -904},\n",
       " {'Alice': -804, 'Bob': 804},\n",
       " {'Alice': 350, 'Bob': -350},\n",
       " {'Alice': 9, 'Bob': -9},\n",
       " {'Alice': 835, 'Bob': -835},\n",
       " {'Alice': -763, 'Bob': 763},\n",
       " {'Alice': -61, 'Bob': 61},\n",
       " {'Alice': 669, 'Bob': -669},\n",
       " {'Alice': -280, 'Bob': 280},\n",
       " {'Alice': 233, 'Bob': -233},\n",
       " {'Alice': 897, 'Bob': -897},\n",
       " {'Alice': 109, 'Bob': -109},\n",
       " {'Alice': 535, 'Bob': -535},\n",
       " {'Alice': -875, 'Bob': 875},\n",
       " {'Alice': -251, 'Bob': 251},\n",
       " {'Alice': 216, 'Bob': -216},\n",
       " {'Alice': 902, 'Bob': -902},\n",
       " {'Alice': -434, 'Bob': 434},\n",
       " {'Alice': 735, 'Bob': -735},\n",
       " {'Alice': 33, 'Bob': -33},\n",
       " {'Alice': -372, 'Bob': 372},\n",
       " {'Alice': -177, 'Bob': 177},\n",
       " {'Alice': -689, 'Bob': 689},\n",
       " {'Alice': -85, 'Bob': 85},\n",
       " {'Alice': -978, 'Bob': 978},\n",
       " {'Alice': -26, 'Bob': 26},\n",
       " {'Alice': -747, 'Bob': 747}]"
      ]
     },
     "execution_count": 356,
     "metadata": {},
     "output_type": "execute_result"
    }
   ],
   "source": [
    "# creating a large set of transactions, then chunking them into blocks\n",
    "transactionBuffer = [makeTransaction() for _ in range(100)] # 100 transactions\n",
    "transactionBuffer"
   ]
  },
  {
   "cell_type": "markdown",
   "id": "c271298f",
   "metadata": {},
   "source": [
    "#### updateState(transaction, state) funtion — Applying a transaction to account balance\n",
    "##### This does not validate the transaction, only updates the states. (Only called if the transaction is valid)"
   ]
  },
  {
   "cell_type": "code",
   "execution_count": 357,
   "id": "20abff22",
   "metadata": {},
   "outputs": [],
   "source": [
    "def updateState(transaction, state):\n",
    "    '''\n",
    "    Inputs: \n",
    "        transaction: a dictionary with keys Alice and Bob, and values the amount of money they are sending to each other\n",
    "        state: a dictionary with keys Alice and Bob, and values their current balance\n",
    "    Outputs:\n",
    "        state: a dictionary with keys Alice and Bob, and values their new balance after the transaction\n",
    "        ** Additional users will be added to state if they are not already present\n",
    "    '''\n",
    "\n",
    "    state = state.copy() # Copy the state so we don't modify the original\n",
    "\n",
    "    for key in transaction.keys():\n",
    "        if key in state.keys():\n",
    "            state[key] += transaction[key]\n",
    "        else:\n",
    "            state[key] = transaction[key]\n",
    "    \n",
    "    return state"
   ]
  },
  {
   "cell_type": "code",
   "execution_count": 358,
   "id": "1576e105",
   "metadata": {},
   "outputs": [
    {
     "name": "stdout",
     "output_type": "stream",
     "text": [
      "Initial State:{'Alice': 1000, 'Bob': 1000}\n",
      "Transaction:{'Alice': 22, 'Bob': -22}\n",
      "Updated State:{'Alice': 1022, 'Bob': 978}\n"
     ]
    }
   ],
   "source": [
    "state = {'Alice': 1000, 'Bob': 1000} # Initial state of the system\n",
    "print(f\"Initial State:{state}\")\n",
    "transaction = makeTransaction()\n",
    "print(f\"Transaction:{transaction}\")\n",
    "\n",
    "newState = updateState(transaction, state)\n",
    "print(f\"Updated State:{newState}\")"
   ]
  },
  {
   "cell_type": "markdown",
   "id": "8db9d4d4",
   "metadata": {},
   "source": [
    "#### isValidTransaction(transaction, state) funtion — Validating the transaction"
   ]
  },
  {
   "cell_type": "code",
   "execution_count": 359,
   "id": "a8a9cf82",
   "metadata": {},
   "outputs": [],
   "source": [
    "def isValidTransaction(transaction, state):\n",
    "    '''\n",
    "    Inputs: \n",
    "        transaction: a dictionary with keys Alice and Bob or anyone else, and values the amount of money they are sending to each other\n",
    "        state: a dictionary with keys Alice and Bob or anyone else, and values their current balance\n",
    "    Outputs:\n",
    "        True if the transaction is valid, False otherwise\n",
    "    '''\n",
    "    if sum(transaction.values()) != 0:\n",
    "        return False # Check if the transaction is zero-sum (No new tokens are created or destroyed)\n",
    "    \n",
    "    for key in transaction.keys():\n",
    "        if key in state.keys():\n",
    "            accountBalance = state[key]\n",
    "        else:\n",
    "            accountBalance = 0\n",
    "        \n",
    "        if accountBalance + transaction[key] < 0:\n",
    "            return False\n",
    "        # Check if the transaction is valid by ensuring that the sender has enough money to send\n",
    "        # If the sender is not in the state, they are assumed to have 0 balance, so we check if they are sending more than 0\n",
    "\n",
    "    return True # If all checks pass, the transaction is valid"
   ]
  },
  {
   "cell_type": "code",
   "execution_count": 360,
   "id": "65b02ebe",
   "metadata": {},
   "outputs": [
    {
     "name": "stdout",
     "output_type": "stream",
     "text": [
      "Initial State:{'Alice': 1000, 'Bob': 1000}\n",
      "Transaction: {'Alice': -800, 'Bob': 800}, Valid: True\n",
      "Transaction: {'Alice': 1500, 'Bob': -1500}, Valid: False\n",
      "Transaction: {'Alice': -400, 'Bob': 600}, Valid: False\n",
      "Transaction: {'Alice': -500, 'Bob': 250, 'Lisa': 250}, Valid: True\n"
     ]
    }
   ],
   "source": [
    "state = {'Alice': 1000, 'Bob': 1000} # Initial state of the system\n",
    "print(f\"Initial State:{state}\")\n",
    "\n",
    "transaction1 = {'Alice': -800, 'Bob': 800} # Alice sends 800 to Bob\n",
    "transaction2 = {'Alice': 1500, 'Bob': -1500} # Bob sends 1500 to Alice (invalid transaction since Bob doesn't have enough money)\n",
    "transaction3 = {'Alice': -400, 'Bob': 600} # Alice sends 400 to Bob but Bob receives 600 (invalid transaction since we can't create or destroy tokens)\n",
    "transaction4 = {'Alice': -500, 'Bob': 250, 'Lisa': 250} # Creating new users is valid as long as the rules are preserved\n",
    "\n",
    "print(f\"Transaction: {transaction1}, Valid: {isValidTransaction(transaction1,state)}\")\n",
    "print(f\"Transaction: {transaction2}, Valid: {isValidTransaction(transaction2,state)}\")\n",
    "print(f\"Transaction: {transaction3}, Valid: {isValidTransaction(transaction3,state)}\")\n",
    "print(f\"Transaction: {transaction4}, Valid: {isValidTransaction(transaction4,state)}\")"
   ]
  },
  {
   "cell_type": "markdown",
   "id": "8e02b2db",
   "metadata": {},
   "source": [
    "#### Building the Blockchain: From Transactions to Blocks"
   ]
  },
  {
   "cell_type": "code",
   "execution_count": 361,
   "id": "24ca887d",
   "metadata": {},
   "outputs": [],
   "source": [
    "state = {'Alice': 2000, 'Bob': 2000} # Initial state of the system (This is like setting up the original balances in a new blockchain network)\n",
    "\n",
    "genesisBlockTransactions = [state] # This is the first block in the blockchain, so we set the transactions to the initial state\n",
    "\n",
    "genesisBlockContents = {\n",
    "    'blockNumber': 0,\n",
    "    'parentHash': None,\n",
    "    'transactionCount': 1,\n",
    "    'transactions': genesisBlockTransactions\n",
    "}\n",
    "\n",
    "genesisHash = hashMe(genesisBlockContents) # Generating SHA-256 hash of block's content. This makes is immutable. If anything changes, the hash changes\n",
    "\n",
    "genesisBlock = {'hash': genesisHash, 'contents': genesisBlockContents} # Creating the actual block using a dictionary\n",
    "\n",
    "genesisBlockStr = json.dumps(genesisBlock, sort_keys=True) # Serializing the block for later use (storing, printing or transmitting)\n",
    "\n",
    "# This becomes the first element from which everything else will be linked."
   ]
  },
  {
   "cell_type": "code",
   "execution_count": 362,
   "id": "75b2b7cc",
   "metadata": {},
   "outputs": [],
   "source": [
    "# creating the blockchain\n",
    "chain = [genesisBlock]"
   ]
  },
  {
   "cell_type": "markdown",
   "id": "05e80035",
   "metadata": {},
   "source": [
    "#### makeBlock(transaction, chain) function"
   ]
  },
  {
   "cell_type": "code",
   "execution_count": 363,
   "id": "a7e5052e",
   "metadata": {},
   "outputs": [],
   "source": [
    "def makeBlock(transactions, chain):\n",
    "    '''\n",
    "        \n",
    "    '''\n",
    "    parentBlock = chain[-1]\n",
    "    parentHash = parentBlock['hash']\n",
    "    blockNumber = parentBlock['contents']['blockNumber'] + 1\n",
    "    transactionCount = len(transactions)\n",
    "\n",
    "    blockContents = {\n",
    "        'blockNumber': blockNumber,\n",
    "        'parentHash': parentHash,\n",
    "        'transactionCount': transactionCount,\n",
    "        'transactions': transactions\n",
    "    }\n",
    "\n",
    "    blockHash = hashMe(blockContents)\n",
    "\n",
    "    block = {'hash': blockHash, 'contents': blockContents}\n",
    "\n",
    "    return block"
   ]
  },
  {
   "cell_type": "markdown",
   "id": "b3ca2a90",
   "metadata": {},
   "source": [
    "#### Processing transactionBuffer into Blocks"
   ]
  },
  {
   "cell_type": "code",
   "execution_count": null,
   "id": "8b1852d9",
   "metadata": {},
   "outputs": [
    {
     "name": "stdout",
     "output_type": "stream",
     "text": [
      "Transaction {'Alice': -689, 'Bob': 689} is invalid and will be discarded\n",
      "Transaction {'Alice': -177, 'Bob': 177} is invalid and will be discarded\n",
      "Transaction {'Alice': -372, 'Bob': 372} is invalid and will be discarded\n",
      "Block 1 created with 10 transactions\n",
      "Block 2 created with 10 transactions\n",
      "Transaction {'Alice': 376, 'Bob': -376} is invalid and will be discarded\n",
      "Transaction {'Alice': 520, 'Bob': -520} is invalid and will be discarded\n",
      "Transaction {'Alice': 576, 'Bob': -576} is invalid and will be discarded\n",
      "Transaction {'Alice': 852, 'Bob': -852} is invalid and will be discarded\n",
      "Transaction {'Alice': 819, 'Bob': -819} is invalid and will be discarded\n",
      "Block 3 created with 10 transactions\n",
      "Block 4 created with 10 transactions\n",
      "Transaction {'Alice': 816, 'Bob': -816} is invalid and will be discarded\n",
      "Transaction {'Alice': 511, 'Bob': -511} is invalid and will be discarded\n",
      "Block 5 created with 10 transactions\n",
      "Transaction {'Alice': 410, 'Bob': -410} is invalid and will be discarded\n",
      "Block 6 created with 10 transactions\n",
      "Block 7 created with 10 transactions\n",
      "Transaction {'Alice': -892, 'Bob': 892} is invalid and will be discarded\n",
      "Transaction {'Alice': -923, 'Bob': 923} is invalid and will be discarded\n",
      "Transaction {'Alice': -515, 'Bob': 515} is invalid and will be discarded\n",
      "Block 8 created with 10 transactions\n",
      "Transaction {'Alice': 875, 'Bob': -875} is invalid and will be discarded\n",
      "Transaction {'Alice': 829, 'Bob': -829} is invalid and will be discarded\n",
      "Block 9 created with 4 transactions\n"
     ]
    }
   ],
   "source": [
    "blockSizeLimit = 10 # This is the maximum number of transactions that can be in a block\n",
    "# This is a simple way to limit the size of the block. In a real blockchain, this would be more complex and would \n",
    "# involve checking the size of the block in bytes and ensuring that it doesn't exceed a certain limit. This is just\n",
    "# a simple example to illustrate the concept.\n",
    "\n",
    "while len(transactionBuffer) > 0:\n",
    "    bufferStartSize = len(transactionBuffer) # This is the size of the buffer before we start processing it\n",
    "\n",
    "    # Gather a set of valid transacrions for the block\n",
    "    transactionList = [] # This is the list of transactions that will be in the block\n",
    "\n",
    "    while (len(transactionList) < blockSizeLimit) and (len(transactionBuffer) > 0): # While we haven't reached the block size limit and there are still transactions in the buffer\n",
    "        newTransaction = transactionBuffer.pop() # Pop a transaction from the buffer\n",
    "\n",
    "        transactionValidity = isValidTransaction(newTransaction, state) # Check if the transaction is valid\n",
    "        if transactionValidity:\n",
    "            transactionList.append(newTransaction) # If the transaction is valid, add it to the list of transactions for the block\n",
    "            state = updateState(newTransaction, state)\n",
    "        else:\n",
    "            print(f\"Transaction {newTransaction} is invalid and will be discarded\")\n",
    "            # If the transaction is invalid, discard it and move on to the next one\n",
    "            continue\n",
    "\n",
    "    # If we have a block of transactions, create a new block and add it to the chain\n",
    "    newBlock = makeBlock(transactionList, chain) # Create a new block with the transactions we gathered\n",
    "    chain.append(newBlock) # Add the new block to the chain\n",
    "    print(f\"Block {newBlock['contents']['blockNumber']} created with {len(transactionList)} transactions\")"
   ]
  },
  {
   "cell_type": "code",
   "execution_count": 365,
   "id": "fcd933cd",
   "metadata": {},
   "outputs": [
    {
     "data": {
      "text/plain": [
       "{'hash': '0cfb911091d3f6d330c2dff1bab497a582f6b99e91d1cca475c1639728289c17',\n",
       " 'contents': {'blockNumber': 0,\n",
       "  'parentHash': None,\n",
       "  'transactionCount': 1,\n",
       "  'transactions': [{'Alice': 2000, 'Bob': 2000}]}}"
      ]
     },
     "execution_count": 365,
     "metadata": {},
     "output_type": "execute_result"
    }
   ],
   "source": [
    "chain[0] # This is the genesis block, which is the first block in the chain. It has no parent and contains the initial state of the system"
   ]
  },
  {
   "cell_type": "code",
   "execution_count": 366,
   "id": "35652eb9",
   "metadata": {},
   "outputs": [
    {
     "data": {
      "text/plain": [
       "{'hash': 'e4e0f5be863cfc886026ff06111b802006a471213585b6c3a9453a70a392ab87',\n",
       " 'contents': {'blockNumber': 3,\n",
       "  'parentHash': '3c764cbadc3a00980590b7285754fb04478554215bc6b9ace4e3302971eef3bb',\n",
       "  'transactionCount': 10,\n",
       "  'transactions': [{'Alice': 9, 'Bob': -9},\n",
       "   {'Alice': 350, 'Bob': -350},\n",
       "   {'Alice': -804, 'Bob': 804},\n",
       "   {'Alice': 904, 'Bob': -904},\n",
       "   {'Alice': 701, 'Bob': -701},\n",
       "   {'Alice': -501, 'Bob': 501},\n",
       "   {'Alice': -749, 'Bob': 749},\n",
       "   {'Alice': 417, 'Bob': -417},\n",
       "   {'Alice': 631, 'Bob': -631},\n",
       "   {'Alice': -311, 'Bob': 311}]}}"
      ]
     },
     "execution_count": 366,
     "metadata": {},
     "output_type": "execute_result"
    }
   ],
   "source": [
    "chain[3]"
   ]
  },
  {
   "cell_type": "code",
   "execution_count": 367,
   "id": "7108b591",
   "metadata": {},
   "outputs": [
    {
     "data": {
      "text/plain": [
       "{'Alice': 3401, 'Bob': 599}"
      ]
     },
     "execution_count": 367,
     "metadata": {},
     "output_type": "execute_result"
    }
   ],
   "source": [
    "state # This is the final state of the system after all transactions have been processed. It shows the final balances of all users in the system"
   ]
  },
  {
   "cell_type": "markdown",
   "id": "1e5b3800",
   "metadata": {},
   "source": [
    "#### checkBlockHash(block) - This function ensures block integrity"
   ]
  },
  {
   "cell_type": "code",
   "execution_count": 368,
   "id": "fcc60155",
   "metadata": {},
   "outputs": [],
   "source": [
    "def checkBlockHash(block):\n",
    "    '''\n",
    "    Inputs:\n",
    "        block: a block in the blockchain\n",
    "    Outputs:\n",
    "        None if the hash is valid, raises an exception if the hash is invalid\n",
    "\n",
    "    This function checks if the hash of the block is valid by comparing it to the hash of the block's contents.\n",
    "    This protect the blockchain from tampering.\n",
    "    If anyone changes the content of a block(even one letter),the hash will change and the block will become invalid.\n",
    "    This achieves immutability in the blockchain\n",
    "    '''\n",
    "\n",
    "    expectedHash = hashMe(block['contents']) # Hash the block contents to get the expected hash\n",
    "    if expectedHash != block['hash']:\n",
    "        raise Exception(f\"Hash does not match for block {block['contents']['blockNumber']}. Expected {expectedHash}, got {block['hash']}\")\n",
    "    return"
   ]
  },
  {
   "cell_type": "markdown",
   "id": "0b73f407",
   "metadata": {},
   "source": [
    "#### checkBlockValidity(block, parent, state) - This function ensures block is valid in context(considers parent block and system state)"
   ]
  },
  {
   "cell_type": "code",
   "execution_count": 369,
   "id": "aff70591",
   "metadata": {},
   "outputs": [],
   "source": [
    "def chechkBlockValidity(block, parent, state):\n",
    "    '''\n",
    "    This function is used to validate the blocks in the blockchain and ensure that they are valid before adding them to the chain.\n",
    "    Inputs:\n",
    "        block: a block in the blockchain\n",
    "        parent: the parent block of the current block\n",
    "        state: the current state of the system\n",
    "    Outputs:\n",
    "        state: the updated state of the system after processing the block\n",
    "    \n",
    "    This function checks if the block is valid by checking the following:\n",
    "        1. The block number is the next block after the parent block\n",
    "        2. The parent hash is correct (the hash of the parent block)\n",
    "        3. The transactions in the block are valid (using the isValidTransaction function)\n",
    "        4. The hash of the block is valid (using the checkBlockHash function)\n",
    "    If any of these checks fail, an exception is raised.\n",
    "    If all checks pass, the state is updated with the transactions in the block and the updated state is returned.\n",
    "    '''\n",
    "\n",
    "    parentNumber = parent['contents']['blockNumber'] # Get the block number of the parent block\n",
    "    parentHash = parent['hash'] # Get the hash of the parent block\n",
    "    blockNumber = block['contents']['blockNumber'] # Get the block number of the current block\n",
    "\n",
    "    # Check transaction vallidity, throw an error if any transaction is invalid\n",
    "    for transaction in block['contents']['transactions']:\n",
    "        if isValidTransaction(transaction, state):\n",
    "            state = updateState(transaction, state)\n",
    "        else:\n",
    "            raise Exception(f\"Transaction {transaction} in block {blockNumber} is invalid\")\n",
    "        \n",
    "    checkBlockHash(block) # Check if the hash of the block is valid\n",
    "\n",
    "    if blockNumber != parentNumber + 1:\n",
    "        raise Exception(f\"Block {blockNumber} is not the next block after {parentNumber}.\") # Check if the block number is correct\n",
    "    \n",
    "    if block['contents']['parentHash'] != parentHash:\n",
    "        raise Exception(f\"Block {blockNumber} does not have the correct parent hash. Expected {parentHash}, got {block['contents']['parentHash']}\") # Check if the parent hash is correct\n",
    "    \n",
    "    return state\n",
    "        "
   ]
  },
  {
   "cell_type": "markdown",
   "id": "f7b49b2e",
   "metadata": {},
   "source": [
    "#### checkChain(chain) - Check the validity of the chain"
   ]
  },
  {
   "cell_type": "code",
   "execution_count": 370,
   "id": "d80f738b",
   "metadata": {},
   "outputs": [],
   "source": [
    "def checkChain(chain):\n",
    "    '''\n",
    "        This function checks the entire blockchain for validity and consistency.\n",
    "        Inputs:\n",
    "            chain: a list of blocks in the blockchain\n",
    "        Outputs:\n",
    "            state: the final state of the system after processing all blocks in the chain\n",
    "        \n",
    "        This function checks the following:\n",
    "            1. The chain is a list of blocks\n",
    "            2. The genesis block is valid (using the checkBlockHash function)\n",
    "            3. Each block in the chain is valid (using the chechkBlockValidity function)\n",
    "        If any of these checks fail, return False.\n",
    "        If all checks pass, return the final state of the system after processing all blocks in the chain.\n",
    "    '''\n",
    "\n",
    "    # Check if the chain is a list of blocks\n",
    "    if type(chain) == str:\n",
    "        try:\n",
    "            chain = json.loads(chain) # If the chain is a string, convert it to a list of blocks\n",
    "            assert type(chain) == list # Check if the chain is a list\n",
    "        except:\n",
    "            return False\n",
    "    elif type(chain) != list:\n",
    "        return False\n",
    "    \n",
    "    state = {} # Initialize the state of the system\n",
    "\n",
    "    for transaction in chain[0]['contents']['transactions']:\n",
    "        state = updateState(transaction, state)\n",
    "    # Update the state with the transactions in the genesis block(Genesis block is assumed to be valid)\n",
    "\n",
    "    checkBlockHash(chain[0]) # Check if the hash of the genesis block is valid\n",
    "\n",
    "    parent = chain[0] # Set the parent block to the genesis block\n",
    "\n",
    "    for block in chain[1:]: # Iterate through the rest of the blocks in the chain\n",
    "        state = chechkBlockValidity(block, parent, state)\n",
    "        # Check if the block is valid and update the state with the transactions in the block\n",
    "        parent = block\n",
    "        # Set the parent block to the current block for the next iteration\n",
    "\n",
    "    return state # Return the final state of the system after processing all blocks in the chain"
   ]
  },
  {
   "cell_type": "code",
   "execution_count": 371,
   "id": "012304f4",
   "metadata": {},
   "outputs": [
    {
     "data": {
      "text/plain": [
       "{'Alice': 3401, 'Bob': 599}"
      ]
     },
     "execution_count": 371,
     "metadata": {},
     "output_type": "execute_result"
    }
   ],
   "source": [
    "checkChain(chain) # Check the entire blockchain for validity and consistency\n",
    "# This will return the final state of the system after processing all blocks in the chain"
   ]
  },
  {
   "cell_type": "code",
   "execution_count": 372,
   "id": "ff5b6d65",
   "metadata": {},
   "outputs": [
    {
     "data": {
      "text/plain": [
       "{'Alice': 3401, 'Bob': 599}"
      ]
     },
     "execution_count": 372,
     "metadata": {},
     "output_type": "execute_result"
    }
   ],
   "source": [
    "# Even if we are loading the chain from a text file, e.g. from backup or loading it for the first time, we can check the integrity of the chain and create the current state\n",
    "chainAsText = json.dumps(chain,sort_keys=True)\n",
    "checkChain(chainAsText)"
   ]
  },
  {
   "cell_type": "code",
   "execution_count": 373,
   "id": "c3d91f2b",
   "metadata": {},
   "outputs": [
    {
     "name": "stdout",
     "output_type": "stream",
     "text": [
      "Exception: Transaction {'Alice': -10000, 'Bob': 747} in block 1 is invalid\n"
     ]
    }
   ],
   "source": [
    "# Manually tampering with a transaction in the chain to see if the checkChain function catches it\n",
    "chain[1]['contents']['transactions'][0]['Alice'] = -10000 # This is an invalid transaction since Alice doesn't have enough money to send 10000 to Bob\n",
    "\n",
    "# This will cause the checkChain function to raise an exception when we try to check the chain again\n",
    "try:\n",
    "    checkChain(chain)\n",
    "except Exception as e:\n",
    "    print(f\"Exception: {e}\")"
   ]
  },
  {
   "cell_type": "code",
   "execution_count": 374,
   "id": "a68c195d",
   "metadata": {},
   "outputs": [
    {
     "name": "stdout",
     "output_type": "stream",
     "text": [
      "Exception: Transaction {'Alice': -341, 'Bob': 747} in block 1 is invalid\n"
     ]
    }
   ],
   "source": [
    "# breaking the parentHash reference in block 3\n",
    "chain[1]['contents']['transactions'][0]['Alice'] = -341 # Reset the transaction to a valid one so we can check the chain again\n",
    "chain[3]['contents']['parentHash'] = '1234567890' # This is an invalid parent hash since it doesn't match the hash of the parent block\n",
    "\n",
    "# This will cause the checkChain function to raise an exception when we try to check the chain again\n",
    "try:\n",
    "    checkChain(chain)\n",
    "except Exception as e:\n",
    "    print(f\"Exception: {e}\")"
   ]
  },
  {
   "cell_type": "code",
   "execution_count": 375,
   "id": "c9162aa6",
   "metadata": {},
   "outputs": [
    {
     "data": {
      "text/plain": [
       "{'hash': '6854cf855b4782fc1a722705a746e9f7ffab843195f4e1890656f7d0a5013a6c',\n",
       " 'contents': {'blockNumber': 4,\n",
       "  'parentHash': 'e4e0f5be863cfc886026ff06111b802006a471213585b6c3a9453a70a392ab87',\n",
       "  'transactionCount': 10,\n",
       "  'transactions': [{'Alice': 492, 'Bob': -492},\n",
       "   {'Alice': -792, 'Bob': 792},\n",
       "   {'Alice': 632, 'Bob': -632},\n",
       "   {'Alice': -898, 'Bob': 898},\n",
       "   {'Alice': 856, 'Bob': -856},\n",
       "   {'Alice': -835, 'Bob': 835},\n",
       "   {'Alice': -964, 'Bob': 964},\n",
       "   {'Alice': -675, 'Bob': 675},\n",
       "   {'Alice': 468, 'Bob': -468},\n",
       "   {'Alice': 571, 'Bob': -571}]}}"
      ]
     },
     "execution_count": 375,
     "metadata": {},
     "output_type": "execute_result"
    }
   ],
   "source": [
    "chain[4]"
   ]
  },
  {
   "cell_type": "code",
   "execution_count": 376,
   "id": "ed16f97f",
   "metadata": {},
   "outputs": [
    {
     "name": "stdout",
     "output_type": "stream",
     "text": [
      "Exception: Transaction {'Alice': -341, 'Bob': 747} in block 1 is invalid\n"
     ]
    }
   ],
   "source": [
    "# Breaking the block number continuity in block 4\n",
    "chain[3]['contents']['parentHash'] = chain[2]['hash'] # Reset the parent hash to the correct value so we can check the chain again\n",
    "chain[4]['contents']['blockNumber'] = chain[3]['contents']['blockNumber'] + 2 # \n",
    "\n",
    "# This will cause the checkChain function to raise an exception when we try to check the chain again\n",
    "try:\n",
    "    checkChain(chain)\n",
    "except Exception as e:\n",
    "    print(f\"Exception: {e}\")"
   ]
  },
  {
   "cell_type": "markdown",
   "id": "a4b212e4",
   "metadata": {},
   "source": [
    "#### Putting it Together: The final blockchain Architecture"
   ]
  },
  {
   "cell_type": "markdown",
   "id": "150365de",
   "metadata": {},
   "source": [
    "##### On Node A (The miner node)"
   ]
  },
  {
   "cell_type": "code",
   "execution_count": 378,
   "id": "a1b982c4",
   "metadata": {},
   "outputs": [],
   "source": [
    "import copy\n",
    "\n",
    "nodeBchain = copy.copy(chain) # This is a shallow copy of the chain, so it will not affect the original chain\n",
    "nodeBtransactions = [makeTransaction() for _ in range(10)] # 10 transactions\n",
    "newBlock = makeBlock(nodeBtransactions, nodeBchain) # Create a new block with the transactions we gathered"
   ]
  },
  {
   "cell_type": "code",
   "execution_count": 379,
   "id": "eb726b9b",
   "metadata": {},
   "outputs": [
    {
     "data": {
      "text/plain": [
       "{'hash': '7dbc1ffc8ecc83079ef1dc94db2222caafd5a9eb7eecbdf1ea88e7ae8f8524d7',\n",
       " 'contents': {'blockNumber': 10,\n",
       "  'parentHash': '8519c1fd641aff9787b41d3efeb498d2a3822f5b8a2d2a7e5ee20c55e09b875b',\n",
       "  'transactionCount': 10,\n",
       "  'transactions': [{'Alice': -262, 'Bob': 262},\n",
       "   {'Alice': -833, 'Bob': 833},\n",
       "   {'Alice': 161, 'Bob': -161},\n",
       "   {'Alice': 189, 'Bob': -189},\n",
       "   {'Alice': 709, 'Bob': -709},\n",
       "   {'Alice': -395, 'Bob': 395},\n",
       "   {'Alice': 45, 'Bob': -45},\n",
       "   {'Alice': 254, 'Bob': -254},\n",
       "   {'Alice': -995, 'Bob': 995},\n",
       "   {'Alice': -5, 'Bob': 5}]}}"
      ]
     },
     "execution_count": 379,
     "metadata": {},
     "output_type": "execute_result"
    }
   ],
   "source": [
    "newBlock"
   ]
  },
  {
   "cell_type": "code",
   "execution_count": 380,
   "id": "b5e37ebd",
   "metadata": {},
   "outputs": [
    {
     "data": {
      "text/plain": [
       "{'Alice': 2269, 'Bob': 1731}"
      ]
     },
     "execution_count": 380,
     "metadata": {},
     "output_type": "execute_result"
    }
   ],
   "source": [
    "chechkBlockValidity(newBlock, nodeBchain[-1], state) # Check if the block is valid and update the state with the transactions in the block"
   ]
  },
  {
   "cell_type": "markdown",
   "id": "93e5aff5",
   "metadata": {},
   "source": [
    "##### Assume the newBlock is received by our Node."
   ]
  },
  {
   "cell_type": "code",
   "execution_count": 381,
   "id": "739cfdc9",
   "metadata": {},
   "outputs": [
    {
     "name": "stdout",
     "output_type": "stream",
     "text": [
      "Blockchain on Node A is currently 10 blocks long\n",
      "New block received. Checking validity...\n",
      "Blockchain on Node A is now 11 blocks long\n"
     ]
    }
   ],
   "source": [
    "print(f\"Blockchain on Node A is currently {len(chain)} blocks long\")\n",
    "\n",
    "try:\n",
    "    print(\"New block received. Checking validity...\")\n",
    "    state = chechkBlockValidity(newBlock, chain[-1], state) # Update the state, but this will throw an error if the block is invalid\n",
    "    chain.append(newBlock)\n",
    "\n",
    "except:\n",
    "    print(\"Invalid block. Ignoring and waiting for next block...\")\n",
    "\n",
    "print(f\"Blockchain on Node A is now {len(chain)} blocks long\")"
   ]
  }
 ],
 "metadata": {
  "kernelspec": {
   "display_name": "Python 3",
   "language": "python",
   "name": "python3"
  },
  "language_info": {
   "codemirror_mode": {
    "name": "ipython",
    "version": 3
   },
   "file_extension": ".py",
   "mimetype": "text/x-python",
   "name": "python",
   "nbconvert_exporter": "python",
   "pygments_lexer": "ipython3",
   "version": "3.13.3"
  }
 },
 "nbformat": 4,
 "nbformat_minor": 5
}
